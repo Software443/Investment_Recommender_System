{
 "cells": [
  {
   "cell_type": "markdown",
   "id": "d97e14d8",
   "metadata": {},
   "source": [
    "Import Required Libraries"
   ]
  },
  {
   "cell_type": "code",
   "execution_count": 1,
   "id": "708df9ba",
   "metadata": {},
   "outputs": [],
   "source": [
    "import numpy as np\n",
    "import pandas as pd\n",
    "import matplotlib.pyplot as plt\n",
    "import seaborn as sns\n",
    "\n",
    "import warnings\n",
    "warnings.filterwarnings('ignore')\n",
    "\n",
    "\n",
    "from sklearn.model_selection import train_test_split\n",
    "from sklearn.metrics import mean_squared_error, mean_absolute_error\n",
    "from sklearn.linear_model import LinearRegression\n",
    "from sklearn.cluster import KMeans\n",
    "from sklearn.ensemble import RandomForestClassifier\n",
    "from sklearn.preprocessing import StandardScaler\n",
    "from sklearn.metrics import r2_score\n",
    "from sklearn.model_selection import cross_val_score\n",
    "from sklearn.model_selection import GridSearchCV\n",
    "from sklearn.pipeline import Pipeline\n",
    "from sklearn.compose import ColumnTransformer\n",
    "from sklearn.impute import SimpleImputer\n",
    "from sklearn.preprocessing import OneHotEncoder, OrdinalEncoder\n"
   ]
  },
  {
   "cell_type": "markdown",
   "id": "7dd08d04",
   "metadata": {},
   "source": [
    "Connect to MYSQL"
   ]
  },
  {
   "cell_type": "code",
   "execution_count": null,
   "id": "fcbc68a9",
   "metadata": {},
   "outputs": [],
   "source": []
  },
  {
   "cell_type": "code",
   "execution_count": null,
   "id": "6772b173",
   "metadata": {},
   "outputs": [
    {
     "data": {
      "application/vnd.microsoft.datawrangler.viewer.v0+json": {
       "columns": [
        {
         "name": "index",
         "rawType": "int64",
         "type": "integer"
        },
        {
         "name": "Investor_ID",
         "rawType": "object",
         "type": "string"
        },
        {
         "name": "Investor_Type",
         "rawType": "object",
         "type": "string"
        },
        {
         "name": "Sector",
         "rawType": "object",
         "type": "string"
        },
        {
         "name": "LGA",
         "rawType": "object",
         "type": "string"
        },
        {
         "name": "Investment_Type",
         "rawType": "object",
         "type": "string"
        },
        {
         "name": "Amount_NGN",
         "rawType": "int64",
         "type": "integer"
        },
        {
         "name": "Year",
         "rawType": "int64",
         "type": "integer"
        },
        {
         "name": "ROI_Percent",
         "rawType": "float64",
         "type": "float"
        },
        {
         "name": "Status",
         "rawType": "object",
         "type": "string"
        }
       ],
       "ref": "758166b7-ad53-4347-a0a4-322f2978e819",
       "rows": [
        [
         "0",
         "INV000",
         "Local",
         "Mining",
         "Lafia",
         "DDI",
         "444398601",
         "2022",
         "13.3",
         "Stalled"
        ],
        [
         "1",
         "INV001",
         "NGO",
         "Manufacturing",
         "Nasarawa",
         "FDI",
         "316835156",
         "2023",
         "7.96",
         "Stalled"
        ],
        [
         "2",
         "INV002",
         "Foreign",
         "Energy",
         "Lafia",
         "FDI",
         "282515989",
         "2018",
         "5.75",
         "Active"
        ],
        [
         "3",
         "INV003",
         "NGO",
         "Manufacturing",
         "Nasarawa",
         "FDI",
         "194736815",
         "2020",
         "19.1",
         "Completed"
        ],
        [
         "4",
         "INV004",
         "Local",
         "Healthcare",
         "Doma",
         "FDI",
         "102974379",
         "2020",
         "14.74",
         "Completed"
        ],
        [
         "5",
         "INV005",
         "Foreign",
         "Energy",
         "Akwanga",
         "DDI",
         "182564116",
         "2018",
         "21.37",
         "Stalled"
        ],
        [
         "6",
         "INV006",
         "NGO",
         "Manufacturing",
         "Keffi",
         "DDI",
         "486765206",
         "2020",
         "17.64",
         "Completed"
        ],
        [
         "7",
         "INV007",
         "Foreign",
         "Energy",
         "Nasarawa",
         "DDI",
         "381273429",
         "2021",
         "14.24",
         "Active"
        ],
        [
         "8",
         "INV008",
         "NGO",
         "Manufacturing",
         "Doma",
         "FDI",
         "361050708",
         "2022",
         "15.61",
         "Stalled"
        ],
        [
         "9",
         "INV009",
         "NGO",
         "Healthcare",
         "Akwanga",
         "FDI",
         "35270342",
         "2023",
         "8.34",
         "Completed"
        ],
        [
         "10",
         "INV010",
         "Foreign",
         "Mining",
         "Karu",
         "DDI",
         "42222440",
         "2018",
         "20.59",
         "Stalled"
        ],
        [
         "11",
         "INV011",
         "NGO",
         "Healthcare",
         "Nasarawa",
         "DDI",
         "68106055",
         "2019",
         "9.88",
         "Completed"
        ],
        [
         "12",
         "INV012",
         "Local",
         "Technology",
         "Nasarawa",
         "FDI",
         "100353743",
         "2020",
         "15.46",
         "Completed"
        ],
        [
         "13",
         "INV013",
         "Foreign",
         "Manufacturing",
         "Keffi",
         "FDI",
         "62244409",
         "2024",
         "12.43",
         "Completed"
        ],
        [
         "14",
         "INV014",
         "Foreign",
         "Agriculture",
         "Karu",
         "DDI",
         "90896021",
         "2023",
         "6.68",
         "Completed"
        ],
        [
         "15",
         "INV015",
         "Local",
         "Technology",
         "Akwanga",
         "DDI",
         "237562020",
         "2018",
         "8.78",
         "Active"
        ],
        [
         "16",
         "INV016",
         "Local",
         "Technology",
         "Nasarawa",
         "FDI",
         "298924027",
         "2022",
         "23.53",
         "Stalled"
        ],
        [
         "17",
         "INV017",
         "Foreign",
         "Agriculture",
         "Nasarawa",
         "DDI",
         "146498205",
         "2021",
         "22.4",
         "Completed"
        ],
        [
         "18",
         "INV018",
         "NGO",
         "Energy",
         "Karu",
         "DDI",
         "165963315",
         "2019",
         "9.25",
         "Stalled"
        ],
        [
         "19",
         "INV019",
         "NGO",
         "Manufacturing",
         "Nasarawa",
         "DDI",
         "401050900",
         "2021",
         "8.33",
         "Active"
        ],
        [
         "20",
         "INV020",
         "Foreign",
         "Mining",
         "Akwanga",
         "FDI",
         "229914918",
         "2018",
         "22.93",
         "Active"
        ],
        [
         "21",
         "INV021",
         "NGO",
         "Manufacturing",
         "Doma",
         "FDI",
         "443946240",
         "2024",
         "6.57",
         "Active"
        ],
        [
         "22",
         "INV022",
         "Foreign",
         "Mining",
         "Doma",
         "DDI",
         "285772710",
         "2020",
         "19.04",
         "Stalled"
        ],
        [
         "23",
         "INV023",
         "Foreign",
         "Agriculture",
         "Karu",
         "DDI",
         "376225778",
         "2020",
         "9.45",
         "Completed"
        ],
        [
         "24",
         "INV024",
         "NGO",
         "Healthcare",
         "Karu",
         "FDI",
         "165720585",
         "2020",
         "21.13",
         "Active"
        ],
        [
         "25",
         "INV025",
         "Local",
         "Healthcare",
         "Akwanga",
         "DDI",
         "235012099",
         "2019",
         "20.47",
         "Active"
        ],
        [
         "26",
         "INV026",
         "NGO",
         "Mining",
         "Akwanga",
         "DDI",
         "315526428",
         "2021",
         "7.47",
         "Completed"
        ],
        [
         "27",
         "INV027",
         "Local",
         "Manufacturing",
         "Lafia",
         "FDI",
         "313160005",
         "2022",
         "19.42",
         "Completed"
        ],
        [
         "28",
         "INV028",
         "NGO",
         "Agriculture",
         "Karu",
         "FDI",
         "233792450",
         "2022",
         "14.62",
         "Active"
        ],
        [
         "29",
         "INV029",
         "Local",
         "Agriculture",
         "Akwanga",
         "DDI",
         "321591357",
         "2024",
         "11.05",
         "Stalled"
        ],
        [
         "30",
         "INV030",
         "NGO",
         "Energy",
         "Doma",
         "DDI",
         "143835834",
         "2019",
         "8.51",
         "Completed"
        ],
        [
         "31",
         "INV031",
         "Local",
         "Technology",
         "Akwanga",
         "DDI",
         "81429460",
         "2019",
         "5.8",
         "Active"
        ],
        [
         "32",
         "INV032",
         "Foreign",
         "Healthcare",
         "Akwanga",
         "FDI",
         "386315604",
         "2022",
         "16.97",
         "Stalled"
        ],
        [
         "33",
         "INV033",
         "Local",
         "Energy",
         "Nasarawa",
         "FDI",
         "290918145",
         "2022",
         "12.38",
         "Stalled"
        ],
        [
         "34",
         "INV034",
         "Foreign",
         "Mining",
         "Karu",
         "DDI",
         "324696239",
         "2021",
         "6.08",
         "Active"
        ],
        [
         "35",
         "INV035",
         "NGO",
         "Manufacturing",
         "Akwanga",
         "DDI",
         "21031459",
         "2024",
         "14.07",
         "Completed"
        ],
        [
         "36",
         "INV036",
         "Local",
         "Healthcare",
         "Karu",
         "DDI",
         "111550160",
         "2019",
         "6.91",
         "Stalled"
        ],
        [
         "37",
         "INV037",
         "Foreign",
         "Mining",
         "Lafia",
         "FDI",
         "364677020",
         "2021",
         "16.57",
         "Stalled"
        ],
        [
         "38",
         "INV038",
         "NGO",
         "Mining",
         "Karu",
         "FDI",
         "466797054",
         "2021",
         "13.99",
         "Active"
        ],
        [
         "39",
         "INV039",
         "Foreign",
         "Mining",
         "Karu",
         "DDI",
         "89962720",
         "2023",
         "5.57",
         "Completed"
        ],
        [
         "40",
         "INV040",
         "Foreign",
         "Agriculture",
         "Karu",
         "DDI",
         "240707935",
         "2021",
         "9.99",
         "Completed"
        ],
        [
         "41",
         "INV041",
         "Foreign",
         "Manufacturing",
         "Lafia",
         "DDI",
         "134737565",
         "2022",
         "9.56",
         "Completed"
        ],
        [
         "42",
         "INV042",
         "Local",
         "Mining",
         "Karu",
         "FDI",
         "44832141",
         "2023",
         "24.11",
         "Active"
        ],
        [
         "43",
         "INV043",
         "Local",
         "Healthcare",
         "Karu",
         "DDI",
         "196531042",
         "2024",
         "8.76",
         "Stalled"
        ],
        [
         "44",
         "INV044",
         "Local",
         "Manufacturing",
         "Keffi",
         "FDI",
         "138320035",
         "2024",
         "5.48",
         "Active"
        ],
        [
         "45",
         "INV045",
         "NGO",
         "Manufacturing",
         "Keffi",
         "FDI",
         "94954849",
         "2020",
         "13.33",
         "Completed"
        ],
        [
         "46",
         "INV046",
         "Foreign",
         "Healthcare",
         "Keffi",
         "FDI",
         "20100278",
         "2022",
         "9.1",
         "Completed"
        ],
        [
         "47",
         "INV047",
         "Foreign",
         "Energy",
         "Keffi",
         "FDI",
         "323171414",
         "2020",
         "6.33",
         "Stalled"
        ],
        [
         "48",
         "INV048",
         "Foreign",
         "Healthcare",
         "Keffi",
         "DDI",
         "360659891",
         "2019",
         "6.31",
         "Completed"
        ],
        [
         "49",
         "INV049",
         "Local",
         "Healthcare",
         "Karu",
         "FDI",
         "210215277",
         "2020",
         "9.2",
         "Active"
        ]
       ],
       "shape": {
        "columns": 9,
        "rows": 100
       }
      },
      "text/html": [
       "<div>\n",
       "<style scoped>\n",
       "    .dataframe tbody tr th:only-of-type {\n",
       "        vertical-align: middle;\n",
       "    }\n",
       "\n",
       "    .dataframe tbody tr th {\n",
       "        vertical-align: top;\n",
       "    }\n",
       "\n",
       "    .dataframe thead th {\n",
       "        text-align: right;\n",
       "    }\n",
       "</style>\n",
       "<table border=\"1\" class=\"dataframe\">\n",
       "  <thead>\n",
       "    <tr style=\"text-align: right;\">\n",
       "      <th></th>\n",
       "      <th>Investor_ID</th>\n",
       "      <th>Investor_Type</th>\n",
       "      <th>Sector</th>\n",
       "      <th>LGA</th>\n",
       "      <th>Investment_Type</th>\n",
       "      <th>Amount_NGN</th>\n",
       "      <th>Year</th>\n",
       "      <th>ROI_Percent</th>\n",
       "      <th>Status</th>\n",
       "    </tr>\n",
       "  </thead>\n",
       "  <tbody>\n",
       "    <tr>\n",
       "      <th>0</th>\n",
       "      <td>INV000</td>\n",
       "      <td>Local</td>\n",
       "      <td>Mining</td>\n",
       "      <td>Lafia</td>\n",
       "      <td>DDI</td>\n",
       "      <td>444398601</td>\n",
       "      <td>2022</td>\n",
       "      <td>13.30</td>\n",
       "      <td>Stalled</td>\n",
       "    </tr>\n",
       "    <tr>\n",
       "      <th>1</th>\n",
       "      <td>INV001</td>\n",
       "      <td>NGO</td>\n",
       "      <td>Manufacturing</td>\n",
       "      <td>Nasarawa</td>\n",
       "      <td>FDI</td>\n",
       "      <td>316835156</td>\n",
       "      <td>2023</td>\n",
       "      <td>7.96</td>\n",
       "      <td>Stalled</td>\n",
       "    </tr>\n",
       "    <tr>\n",
       "      <th>2</th>\n",
       "      <td>INV002</td>\n",
       "      <td>Foreign</td>\n",
       "      <td>Energy</td>\n",
       "      <td>Lafia</td>\n",
       "      <td>FDI</td>\n",
       "      <td>282515989</td>\n",
       "      <td>2018</td>\n",
       "      <td>5.75</td>\n",
       "      <td>Active</td>\n",
       "    </tr>\n",
       "    <tr>\n",
       "      <th>3</th>\n",
       "      <td>INV003</td>\n",
       "      <td>NGO</td>\n",
       "      <td>Manufacturing</td>\n",
       "      <td>Nasarawa</td>\n",
       "      <td>FDI</td>\n",
       "      <td>194736815</td>\n",
       "      <td>2020</td>\n",
       "      <td>19.10</td>\n",
       "      <td>Completed</td>\n",
       "    </tr>\n",
       "    <tr>\n",
       "      <th>4</th>\n",
       "      <td>INV004</td>\n",
       "      <td>Local</td>\n",
       "      <td>Healthcare</td>\n",
       "      <td>Doma</td>\n",
       "      <td>FDI</td>\n",
       "      <td>102974379</td>\n",
       "      <td>2020</td>\n",
       "      <td>14.74</td>\n",
       "      <td>Completed</td>\n",
       "    </tr>\n",
       "    <tr>\n",
       "      <th>...</th>\n",
       "      <td>...</td>\n",
       "      <td>...</td>\n",
       "      <td>...</td>\n",
       "      <td>...</td>\n",
       "      <td>...</td>\n",
       "      <td>...</td>\n",
       "      <td>...</td>\n",
       "      <td>...</td>\n",
       "      <td>...</td>\n",
       "    </tr>\n",
       "    <tr>\n",
       "      <th>95</th>\n",
       "      <td>INV095</td>\n",
       "      <td>Local</td>\n",
       "      <td>Healthcare</td>\n",
       "      <td>Nasarawa</td>\n",
       "      <td>FDI</td>\n",
       "      <td>333748685</td>\n",
       "      <td>2022</td>\n",
       "      <td>23.13</td>\n",
       "      <td>Stalled</td>\n",
       "    </tr>\n",
       "    <tr>\n",
       "      <th>96</th>\n",
       "      <td>INV096</td>\n",
       "      <td>Local</td>\n",
       "      <td>Mining</td>\n",
       "      <td>Akwanga</td>\n",
       "      <td>DDI</td>\n",
       "      <td>394128720</td>\n",
       "      <td>2019</td>\n",
       "      <td>7.83</td>\n",
       "      <td>Stalled</td>\n",
       "    </tr>\n",
       "    <tr>\n",
       "      <th>97</th>\n",
       "      <td>INV097</td>\n",
       "      <td>Foreign</td>\n",
       "      <td>Technology</td>\n",
       "      <td>Lafia</td>\n",
       "      <td>FDI</td>\n",
       "      <td>173990418</td>\n",
       "      <td>2020</td>\n",
       "      <td>7.17</td>\n",
       "      <td>Completed</td>\n",
       "    </tr>\n",
       "    <tr>\n",
       "      <th>98</th>\n",
       "      <td>INV098</td>\n",
       "      <td>Local</td>\n",
       "      <td>Healthcare</td>\n",
       "      <td>Lafia</td>\n",
       "      <td>FDI</td>\n",
       "      <td>214260227</td>\n",
       "      <td>2024</td>\n",
       "      <td>19.41</td>\n",
       "      <td>Active</td>\n",
       "    </tr>\n",
       "    <tr>\n",
       "      <th>99</th>\n",
       "      <td>INV099</td>\n",
       "      <td>NGO</td>\n",
       "      <td>Technology</td>\n",
       "      <td>Lafia</td>\n",
       "      <td>DDI</td>\n",
       "      <td>424669463</td>\n",
       "      <td>2019</td>\n",
       "      <td>6.49</td>\n",
       "      <td>Stalled</td>\n",
       "    </tr>\n",
       "  </tbody>\n",
       "</table>\n",
       "<p>100 rows × 9 columns</p>\n",
       "</div>"
      ],
      "text/plain": [
       "   Investor_ID Investor_Type         Sector       LGA Investment_Type  \\\n",
       "0       INV000         Local         Mining     Lafia             DDI   \n",
       "1       INV001           NGO  Manufacturing  Nasarawa             FDI   \n",
       "2       INV002       Foreign         Energy     Lafia             FDI   \n",
       "3       INV003           NGO  Manufacturing  Nasarawa             FDI   \n",
       "4       INV004         Local     Healthcare      Doma             FDI   \n",
       "..         ...           ...            ...       ...             ...   \n",
       "95      INV095         Local     Healthcare  Nasarawa             FDI   \n",
       "96      INV096         Local         Mining   Akwanga             DDI   \n",
       "97      INV097       Foreign     Technology     Lafia             FDI   \n",
       "98      INV098         Local     Healthcare     Lafia             FDI   \n",
       "99      INV099           NGO     Technology     Lafia             DDI   \n",
       "\n",
       "    Amount_NGN  Year  ROI_Percent     Status  \n",
       "0    444398601  2022        13.30    Stalled  \n",
       "1    316835156  2023         7.96    Stalled  \n",
       "2    282515989  2018         5.75     Active  \n",
       "3    194736815  2020        19.10  Completed  \n",
       "4    102974379  2020        14.74  Completed  \n",
       "..         ...   ...          ...        ...  \n",
       "95   333748685  2022        23.13    Stalled  \n",
       "96   394128720  2019         7.83    Stalled  \n",
       "97   173990418  2020         7.17  Completed  \n",
       "98   214260227  2024        19.41     Active  \n",
       "99   424669463  2019         6.49    Stalled  \n",
       "\n",
       "[100 rows x 9 columns]"
      ]
     },
     "execution_count": 2,
     "metadata": {},
     "output_type": "execute_result"
    }
   ],
   "source": [
    "# load the investment sample dataset\n",
    "Investment_data = pd.read_csv(r\"C:\\Users\\Hp\\Documents\\Investment Recommender system\\sample_investment_data.csv\")\n",
    "Investment_data"
   ]
  },
  {
   "cell_type": "code",
   "execution_count": 4,
   "id": "f85e77a4",
   "metadata": {},
   "outputs": [
    {
     "name": "stdout",
     "output_type": "stream",
     "text": [
      "<class 'pandas.core.frame.DataFrame'>\n",
      "RangeIndex: 100 entries, 0 to 99\n",
      "Data columns (total 9 columns):\n",
      " #   Column           Non-Null Count  Dtype  \n",
      "---  ------           --------------  -----  \n",
      " 0   Investor_ID      100 non-null    object \n",
      " 1   Investor_Type    100 non-null    object \n",
      " 2   Sector           100 non-null    object \n",
      " 3   LGA              100 non-null    object \n",
      " 4   Investment_Type  100 non-null    object \n",
      " 5   Amount_NGN       100 non-null    int64  \n",
      " 6   Year             100 non-null    int64  \n",
      " 7   ROI_Percent      100 non-null    float64\n",
      " 8   Status           100 non-null    object \n",
      "dtypes: float64(1), int64(2), object(6)\n",
      "memory usage: 7.2+ KB\n"
     ]
    }
   ],
   "source": [
    "Investment_data.info()"
   ]
  },
  {
   "cell_type": "code",
   "execution_count": 5,
   "id": "e5ce570b",
   "metadata": {},
   "outputs": [
    {
     "data": {
      "application/vnd.microsoft.datawrangler.viewer.v0+json": {
       "columns": [
        {
         "name": "index",
         "rawType": "object",
         "type": "string"
        },
        {
         "name": "Amount_NGN",
         "rawType": "float64",
         "type": "float"
        },
        {
         "name": "Year",
         "rawType": "float64",
         "type": "float"
        },
        {
         "name": "ROI_Percent",
         "rawType": "float64",
         "type": "float"
        }
       ],
       "ref": "f9156de2-a35e-40e9-9c51-1aa4a2b4a62c",
       "rows": [
        [
         "count",
         "100.0",
         "100.0",
         "100.0"
        ],
        [
         "mean",
         "252429424.0",
         "2020.86",
         "13.695500000000003"
        ],
        [
         "std",
         "133066929.18873544",
         "1.9228556205221794",
         "6.003144861847265"
        ],
        [
         "min",
         "20100278.0",
         "2018.0",
         "5.11"
        ],
        [
         "25%",
         "145832612.25",
         "2019.0",
         "8.3475"
        ],
        [
         "50%",
         "241900604.0",
         "2021.0",
         "13.315000000000001"
        ],
        [
         "75%",
         "359363688.5",
         "2022.0",
         "19.150000000000002"
        ],
        [
         "max",
         "487378017.0",
         "2024.0",
         "24.56"
        ]
       ],
       "shape": {
        "columns": 3,
        "rows": 8
       }
      },
      "text/html": [
       "<div>\n",
       "<style scoped>\n",
       "    .dataframe tbody tr th:only-of-type {\n",
       "        vertical-align: middle;\n",
       "    }\n",
       "\n",
       "    .dataframe tbody tr th {\n",
       "        vertical-align: top;\n",
       "    }\n",
       "\n",
       "    .dataframe thead th {\n",
       "        text-align: right;\n",
       "    }\n",
       "</style>\n",
       "<table border=\"1\" class=\"dataframe\">\n",
       "  <thead>\n",
       "    <tr style=\"text-align: right;\">\n",
       "      <th></th>\n",
       "      <th>Amount_NGN</th>\n",
       "      <th>Year</th>\n",
       "      <th>ROI_Percent</th>\n",
       "    </tr>\n",
       "  </thead>\n",
       "  <tbody>\n",
       "    <tr>\n",
       "      <th>count</th>\n",
       "      <td>1.000000e+02</td>\n",
       "      <td>100.000000</td>\n",
       "      <td>100.000000</td>\n",
       "    </tr>\n",
       "    <tr>\n",
       "      <th>mean</th>\n",
       "      <td>2.524294e+08</td>\n",
       "      <td>2020.860000</td>\n",
       "      <td>13.695500</td>\n",
       "    </tr>\n",
       "    <tr>\n",
       "      <th>std</th>\n",
       "      <td>1.330669e+08</td>\n",
       "      <td>1.922856</td>\n",
       "      <td>6.003145</td>\n",
       "    </tr>\n",
       "    <tr>\n",
       "      <th>min</th>\n",
       "      <td>2.010028e+07</td>\n",
       "      <td>2018.000000</td>\n",
       "      <td>5.110000</td>\n",
       "    </tr>\n",
       "    <tr>\n",
       "      <th>25%</th>\n",
       "      <td>1.458326e+08</td>\n",
       "      <td>2019.000000</td>\n",
       "      <td>8.347500</td>\n",
       "    </tr>\n",
       "    <tr>\n",
       "      <th>50%</th>\n",
       "      <td>2.419006e+08</td>\n",
       "      <td>2021.000000</td>\n",
       "      <td>13.315000</td>\n",
       "    </tr>\n",
       "    <tr>\n",
       "      <th>75%</th>\n",
       "      <td>3.593637e+08</td>\n",
       "      <td>2022.000000</td>\n",
       "      <td>19.150000</td>\n",
       "    </tr>\n",
       "    <tr>\n",
       "      <th>max</th>\n",
       "      <td>4.873780e+08</td>\n",
       "      <td>2024.000000</td>\n",
       "      <td>24.560000</td>\n",
       "    </tr>\n",
       "  </tbody>\n",
       "</table>\n",
       "</div>"
      ],
      "text/plain": [
       "         Amount_NGN         Year  ROI_Percent\n",
       "count  1.000000e+02   100.000000   100.000000\n",
       "mean   2.524294e+08  2020.860000    13.695500\n",
       "std    1.330669e+08     1.922856     6.003145\n",
       "min    2.010028e+07  2018.000000     5.110000\n",
       "25%    1.458326e+08  2019.000000     8.347500\n",
       "50%    2.419006e+08  2021.000000    13.315000\n",
       "75%    3.593637e+08  2022.000000    19.150000\n",
       "max    4.873780e+08  2024.000000    24.560000"
      ]
     },
     "execution_count": 5,
     "metadata": {},
     "output_type": "execute_result"
    }
   ],
   "source": [
    "# View the summary statistics of the Investment dataset\n",
    "Investment_data.describe()"
   ]
  },
  {
   "cell_type": "code",
   "execution_count": 3,
   "id": "0ac52754",
   "metadata": {},
   "outputs": [
    {
     "data": {
      "application/vnd.microsoft.datawrangler.viewer.v0+json": {
       "columns": [
        {
         "name": "index",
         "rawType": "int64",
         "type": "integer"
        },
        {
         "name": "Investor_ID",
         "rawType": "object",
         "type": "string"
        },
        {
         "name": "Country",
         "rawType": "object",
         "type": "string"
        },
        {
         "name": "Risk_Appetite",
         "rawType": "object",
         "type": "string"
        },
        {
         "name": "Preferred_Sector",
         "rawType": "object",
         "type": "string"
        },
        {
         "name": "Budget_Range_NGN",
         "rawType": "object",
         "type": "string"
        },
        {
         "name": "Years_Active",
         "rawType": "int64",
         "type": "integer"
        }
       ],
       "ref": "206fc98e-b361-43b6-8554-a492572b5f59",
       "rows": [
        [
         "0",
         "INV000",
         "Nigeria",
         "High",
         "Technology",
         "63M–387M",
         "5"
        ],
        [
         "1",
         "INV001",
         "India",
         "Medium",
         "Healthcare",
         "82M–209M",
         "5"
        ],
        [
         "2",
         "INV002",
         "China",
         "Medium",
         "Technology",
         "94M–246M",
         "9"
        ],
        [
         "3",
         "INV003",
         "India",
         "Medium",
         "Technology",
         "10M–264M",
         "3"
        ],
        [
         "4",
         "INV004",
         "Nigeria",
         "Medium",
         "Manufacturing",
         "91M–169M",
         "3"
        ],
        [
         "5",
         "INV005",
         "UK",
         "High",
         "Healthcare",
         "64M–314M",
         "3"
        ],
        [
         "6",
         "INV006",
         "Germany",
         "Low",
         "Mining",
         "14M–254M",
         "2"
        ],
        [
         "7",
         "INV007",
         "UK",
         "Low",
         "Agriculture",
         "39M–431M",
         "4"
        ],
        [
         "8",
         "INV008",
         "UK",
         "Medium",
         "Mining",
         "56M–314M",
         "8"
        ],
        [
         "9",
         "INV009",
         "China",
         "Medium",
         "Technology",
         "73M–307M",
         "6"
        ],
        [
         "10",
         "INV010",
         "Germany",
         "High",
         "Healthcare",
         "20M–268M",
         "5"
        ],
        [
         "11",
         "INV011",
         "India",
         "Low",
         "Energy",
         "36M–154M",
         "4"
        ],
        [
         "12",
         "INV012",
         "India",
         "Low",
         "Agriculture",
         "99M–415M",
         "10"
        ],
        [
         "13",
         "INV013",
         "India",
         "High",
         "Manufacturing",
         "35M–354M",
         "7"
        ],
        [
         "14",
         "INV014",
         "China",
         "Medium",
         "Technology",
         "35M–228M",
         "2"
        ],
        [
         "15",
         "INV015",
         "UK",
         "Medium",
         "Mining",
         "77M–226M",
         "10"
        ],
        [
         "16",
         "INV016",
         "China",
         "Medium",
         "Manufacturing",
         "56M–371M",
         "7"
        ],
        [
         "17",
         "INV017",
         "USA",
         "High",
         "Mining",
         "24M–227M",
         "1"
        ],
        [
         "18",
         "INV018",
         "Germany",
         "Low",
         "Mining",
         "96M–254M",
         "7"
        ],
        [
         "19",
         "INV019",
         "Nigeria",
         "Low",
         "Mining",
         "78M–370M",
         "7"
        ],
        [
         "20",
         "INV020",
         "Nigeria",
         "Low",
         "Technology",
         "19M–302M",
         "7"
        ],
        [
         "21",
         "INV021",
         "China",
         "Medium",
         "Technology",
         "72M–355M",
         "3"
        ],
        [
         "22",
         "INV022",
         "Germany",
         "High",
         "Mining",
         "90M–151M",
         "7"
        ],
        [
         "23",
         "INV023",
         "UK",
         "Medium",
         "Mining",
         "24M–469M",
         "3"
        ],
        [
         "24",
         "INV024",
         "India",
         "Low",
         "Mining",
         "84M–414M",
         "1"
        ],
        [
         "25",
         "INV025",
         "UK",
         "Low",
         "Technology",
         "89M–109M",
         "3"
        ],
        [
         "26",
         "INV026",
         "Nigeria",
         "Medium",
         "Technology",
         "77M–334M",
         "2"
        ],
        [
         "27",
         "INV027",
         "Nigeria",
         "Medium",
         "Healthcare",
         "50M–185M",
         "4"
        ],
        [
         "28",
         "INV028",
         "Nigeria",
         "Medium",
         "Energy",
         "78M–280M",
         "6"
        ],
        [
         "29",
         "INV029",
         "Nigeria",
         "Medium",
         "Mining",
         "22M–113M",
         "10"
        ],
        [
         "30",
         "INV030",
         "China",
         "Low",
         "Technology",
         "69M–186M",
         "6"
        ],
        [
         "31",
         "INV031",
         "India",
         "Medium",
         "Technology",
         "44M–325M",
         "6"
        ],
        [
         "32",
         "INV032",
         "Germany",
         "Low",
         "Energy",
         "26M–341M",
         "3"
        ],
        [
         "33",
         "INV033",
         "UK",
         "Medium",
         "Energy",
         "99M–483M",
         "5"
        ],
        [
         "34",
         "INV034",
         "China",
         "High",
         "Manufacturing",
         "38M–198M",
         "2"
        ],
        [
         "35",
         "INV035",
         "Germany",
         "Low",
         "Energy",
         "45M–422M",
         "1"
        ],
        [
         "36",
         "INV036",
         "Germany",
         "Low",
         "Mining",
         "67M–127M",
         "7"
        ],
        [
         "37",
         "INV037",
         "Nigeria",
         "Low",
         "Technology",
         "70M–330M",
         "5"
        ],
        [
         "38",
         "INV038",
         "Germany",
         "Low",
         "Manufacturing",
         "52M–390M",
         "2"
        ],
        [
         "39",
         "INV039",
         "Germany",
         "High",
         "Technology",
         "92M–487M",
         "1"
        ],
        [
         "40",
         "INV040",
         "Nigeria",
         "Medium",
         "Healthcare",
         "66M–394M",
         "10"
        ],
        [
         "41",
         "INV041",
         "Germany",
         "Low",
         "Mining",
         "80M–325M",
         "4"
        ],
        [
         "42",
         "INV042",
         "Germany",
         "High",
         "Manufacturing",
         "67M–109M",
         "7"
        ],
        [
         "43",
         "INV043",
         "Nigeria",
         "High",
         "Agriculture",
         "30M–183M",
         "8"
        ],
        [
         "44",
         "INV044",
         "USA",
         "High",
         "Manufacturing",
         "14M–171M",
         "2"
        ],
        [
         "45",
         "INV045",
         "Nigeria",
         "Low",
         "Healthcare",
         "98M–343M",
         "2"
        ],
        [
         "46",
         "INV046",
         "Nigeria",
         "Low",
         "Energy",
         "68M–233M",
         "6"
        ],
        [
         "47",
         "INV047",
         "USA",
         "High",
         "Agriculture",
         "42M–373M",
         "9"
        ],
        [
         "48",
         "INV048",
         "USA",
         "High",
         "Energy",
         "12M–378M",
         "8"
        ],
        [
         "49",
         "INV049",
         "USA",
         "Low",
         "Healthcare",
         "58M–398M",
         "2"
        ]
       ],
       "shape": {
        "columns": 6,
        "rows": 100
       }
      },
      "text/html": [
       "<div>\n",
       "<style scoped>\n",
       "    .dataframe tbody tr th:only-of-type {\n",
       "        vertical-align: middle;\n",
       "    }\n",
       "\n",
       "    .dataframe tbody tr th {\n",
       "        vertical-align: top;\n",
       "    }\n",
       "\n",
       "    .dataframe thead th {\n",
       "        text-align: right;\n",
       "    }\n",
       "</style>\n",
       "<table border=\"1\" class=\"dataframe\">\n",
       "  <thead>\n",
       "    <tr style=\"text-align: right;\">\n",
       "      <th></th>\n",
       "      <th>Investor_ID</th>\n",
       "      <th>Country</th>\n",
       "      <th>Risk_Appetite</th>\n",
       "      <th>Preferred_Sector</th>\n",
       "      <th>Budget_Range_NGN</th>\n",
       "      <th>Years_Active</th>\n",
       "    </tr>\n",
       "  </thead>\n",
       "  <tbody>\n",
       "    <tr>\n",
       "      <th>0</th>\n",
       "      <td>INV000</td>\n",
       "      <td>Nigeria</td>\n",
       "      <td>High</td>\n",
       "      <td>Technology</td>\n",
       "      <td>63M–387M</td>\n",
       "      <td>5</td>\n",
       "    </tr>\n",
       "    <tr>\n",
       "      <th>1</th>\n",
       "      <td>INV001</td>\n",
       "      <td>India</td>\n",
       "      <td>Medium</td>\n",
       "      <td>Healthcare</td>\n",
       "      <td>82M–209M</td>\n",
       "      <td>5</td>\n",
       "    </tr>\n",
       "    <tr>\n",
       "      <th>2</th>\n",
       "      <td>INV002</td>\n",
       "      <td>China</td>\n",
       "      <td>Medium</td>\n",
       "      <td>Technology</td>\n",
       "      <td>94M–246M</td>\n",
       "      <td>9</td>\n",
       "    </tr>\n",
       "    <tr>\n",
       "      <th>3</th>\n",
       "      <td>INV003</td>\n",
       "      <td>India</td>\n",
       "      <td>Medium</td>\n",
       "      <td>Technology</td>\n",
       "      <td>10M–264M</td>\n",
       "      <td>3</td>\n",
       "    </tr>\n",
       "    <tr>\n",
       "      <th>4</th>\n",
       "      <td>INV004</td>\n",
       "      <td>Nigeria</td>\n",
       "      <td>Medium</td>\n",
       "      <td>Manufacturing</td>\n",
       "      <td>91M–169M</td>\n",
       "      <td>3</td>\n",
       "    </tr>\n",
       "    <tr>\n",
       "      <th>...</th>\n",
       "      <td>...</td>\n",
       "      <td>...</td>\n",
       "      <td>...</td>\n",
       "      <td>...</td>\n",
       "      <td>...</td>\n",
       "      <td>...</td>\n",
       "    </tr>\n",
       "    <tr>\n",
       "      <th>95</th>\n",
       "      <td>INV095</td>\n",
       "      <td>USA</td>\n",
       "      <td>Low</td>\n",
       "      <td>Mining</td>\n",
       "      <td>73M–413M</td>\n",
       "      <td>10</td>\n",
       "    </tr>\n",
       "    <tr>\n",
       "      <th>96</th>\n",
       "      <td>INV096</td>\n",
       "      <td>Germany</td>\n",
       "      <td>Low</td>\n",
       "      <td>Agriculture</td>\n",
       "      <td>40M–407M</td>\n",
       "      <td>7</td>\n",
       "    </tr>\n",
       "    <tr>\n",
       "      <th>97</th>\n",
       "      <td>INV097</td>\n",
       "      <td>China</td>\n",
       "      <td>Low</td>\n",
       "      <td>Agriculture</td>\n",
       "      <td>69M–391M</td>\n",
       "      <td>3</td>\n",
       "    </tr>\n",
       "    <tr>\n",
       "      <th>98</th>\n",
       "      <td>INV098</td>\n",
       "      <td>UK</td>\n",
       "      <td>High</td>\n",
       "      <td>Mining</td>\n",
       "      <td>71M–389M</td>\n",
       "      <td>1</td>\n",
       "    </tr>\n",
       "    <tr>\n",
       "      <th>99</th>\n",
       "      <td>INV099</td>\n",
       "      <td>Nigeria</td>\n",
       "      <td>Medium</td>\n",
       "      <td>Technology</td>\n",
       "      <td>46M–341M</td>\n",
       "      <td>3</td>\n",
       "    </tr>\n",
       "  </tbody>\n",
       "</table>\n",
       "<p>100 rows × 6 columns</p>\n",
       "</div>"
      ],
      "text/plain": [
       "   Investor_ID  Country Risk_Appetite Preferred_Sector Budget_Range_NGN  \\\n",
       "0       INV000  Nigeria          High       Technology         63M–387M   \n",
       "1       INV001    India        Medium       Healthcare         82M–209M   \n",
       "2       INV002    China        Medium       Technology         94M–246M   \n",
       "3       INV003    India        Medium       Technology         10M–264M   \n",
       "4       INV004  Nigeria        Medium    Manufacturing         91M–169M   \n",
       "..         ...      ...           ...              ...              ...   \n",
       "95      INV095      USA           Low           Mining         73M–413M   \n",
       "96      INV096  Germany           Low      Agriculture         40M–407M   \n",
       "97      INV097    China           Low      Agriculture         69M–391M   \n",
       "98      INV098       UK          High           Mining         71M–389M   \n",
       "99      INV099  Nigeria        Medium       Technology         46M–341M   \n",
       "\n",
       "    Years_Active  \n",
       "0              5  \n",
       "1              5  \n",
       "2              9  \n",
       "3              3  \n",
       "4              3  \n",
       "..           ...  \n",
       "95            10  \n",
       "96             7  \n",
       "97             3  \n",
       "98             1  \n",
       "99             3  \n",
       "\n",
       "[100 rows x 6 columns]"
      ]
     },
     "execution_count": 3,
     "metadata": {},
     "output_type": "execute_result"
    }
   ],
   "source": [
    "# load the investor profile dataset\n",
    "Investor_profile = pd.read_csv(r\"C:\\Users\\Hp\\Documents\\Investment Recommender system\\sample_investor_profiles.csv\")\n",
    "Investor_profile"
   ]
  },
  {
   "cell_type": "markdown",
   "id": "50aeb5fa",
   "metadata": {},
   "source": [
    "Check Data Overview"
   ]
  },
  {
   "cell_type": "code",
   "execution_count": 6,
   "metadata": {},
   "outputs": [
    {
     "name": "stdout",
     "output_type": "stream",
     "text": [
      "<class 'pandas.core.frame.DataFrame'>\n",
      "RangeIndex: 100 entries, 0 to 99\n",
      "Data columns (total 6 columns):\n",
      " #   Column            Non-Null Count  Dtype \n",
      "---  ------            --------------  ----- \n",
      " 0   Investor_ID       100 non-null    object\n",
      " 1   Country           100 non-null    object\n",
      " 2   Risk_Appetite     100 non-null    object\n",
      " 3   Preferred_Sector  100 non-null    object\n",
      " 4   Budget_Range_NGN  100 non-null    object\n",
      " 5   Years_Active      100 non-null    int64 \n",
      "dtypes: int64(1), object(5)\n",
      "memory usage: 4.8+ KB\n"
     ]
    }
   ],
   "source": [
    "Investor_profile.info()"
   ]
  },
  {
   "cell_type": "code",
   "execution_count": 7,
   "metadata": {},
   "outputs": [
    {
     "data": {
      "application/vnd.microsoft.datawrangler.viewer.v0+json": {
       "columns": [
        {
         "name": "index",
         "rawType": "object",
         "type": "string"
        },
        {
         "name": "Years_Active",
         "rawType": "float64",
         "type": "float"
        }
       ],
       "ref": "bf847338-8f27-4b6c-aa78-abcfeca09025",
       "rows": [
        [
         "count",
         "100.0"
        ],
        [
         "mean",
         "4.98"
        ],
        [
         "std",
         "2.6967245377166784"
        ],
        [
         "min",
         "1.0"
        ],
        [
         "25%",
         "3.0"
        ],
        [
         "50%",
         "5.0"
        ],
        [
         "75%",
         "7.0"
        ],
        [
         "max",
         "10.0"
        ]
       ],
       "shape": {
        "columns": 1,
        "rows": 8
       }
      },
      "text/html": [
       "<div>\n",
       "<style scoped>\n",
       "    .dataframe tbody tr th:only-of-type {\n",
       "        vertical-align: middle;\n",
       "    }\n",
       "\n",
       "    .dataframe tbody tr th {\n",
       "        vertical-align: top;\n",
       "    }\n",
       "\n",
       "    .dataframe thead th {\n",
       "        text-align: right;\n",
       "    }\n",
       "</style>\n",
       "<table border=\"1\" class=\"dataframe\">\n",
       "  <thead>\n",
       "    <tr style=\"text-align: right;\">\n",
       "      <th></th>\n",
       "      <th>Years_Active</th>\n",
       "    </tr>\n",
       "  </thead>\n",
       "  <tbody>\n",
       "    <tr>\n",
       "      <th>count</th>\n",
       "      <td>100.000000</td>\n",
       "    </tr>\n",
       "    <tr>\n",
       "      <th>mean</th>\n",
       "      <td>4.980000</td>\n",
       "    </tr>\n",
       "    <tr>\n",
       "      <th>std</th>\n",
       "      <td>2.696725</td>\n",
       "    </tr>\n",
       "    <tr>\n",
       "      <th>min</th>\n",
       "      <td>1.000000</td>\n",
       "    </tr>\n",
       "    <tr>\n",
       "      <th>25%</th>\n",
       "      <td>3.000000</td>\n",
       "    </tr>\n",
       "    <tr>\n",
       "      <th>50%</th>\n",
       "      <td>5.000000</td>\n",
       "    </tr>\n",
       "    <tr>\n",
       "      <th>75%</th>\n",
       "      <td>7.000000</td>\n",
       "    </tr>\n",
       "    <tr>\n",
       "      <th>max</th>\n",
       "      <td>10.000000</td>\n",
       "    </tr>\n",
       "  </tbody>\n",
       "</table>\n",
       "</div>"
      ],
      "text/plain": [
       "       Years_Active\n",
       "count    100.000000\n",
       "mean       4.980000\n",
       "std        2.696725\n",
       "min        1.000000\n",
       "25%        3.000000\n",
       "50%        5.000000\n",
       "75%        7.000000\n",
       "max       10.000000"
      ]
     },
     "execution_count": 7,
     "metadata": {},
     "output_type": "execute_result"
    }
   ],
   "source": [
    "Investor_profile.describe()"
   ]
  },
  {
   "cell_type": "code",
   "execution_count": null,
   "id": "d6f083ce",
   "metadata": {},
   "outputs": [],
   "source": [
    "# Merge the datasets on 'Investment ID'\n",
    "merged_data = pd.merge(Investment_data, Investor_profile, on='Investor_ID')"
   ]
  },
  {
   "cell_type": "code",
   "execution_count": null,
   "id": "dcc6ee07",
   "metadata": {},
   "outputs": [],
   "source": []
  },
  {
   "cell_type": "code",
   "execution_count": null,
   "metadata": {},
   "outputs": [],
   "source": []
  },
  {
   "cell_type": "code",
   "execution_count": null,
   "id": "f031fc23",
   "metadata": {},
   "outputs": [],
   "source": []
  },
  {
   "cell_type": "code",
   "execution_count": null,
   "id": "b873bb61",
   "metadata": {},
   "outputs": [],
   "source": []
  },
  {
   "cell_type": "code",
   "execution_count": null,
   "id": "a118d9b6",
   "metadata": {},
   "outputs": [],
   "source": []
  },
  {
   "cell_type": "code",
   "execution_count": null,
   "id": "5af7549e",
   "metadata": {},
   "outputs": [],
   "source": []
  },
  {
   "cell_type": "code",
   "execution_count": null,
   "metadata": {},
   "outputs": [],
   "source": []
  },
  {
   "cell_type": "code",
   "execution_count": null,
   "metadata": {},
   "outputs": [],
   "source": []
  },
  {
   "cell_type": "code",
   "execution_count": null,
   "metadata": {},
   "outputs": [],
   "source": []
  },
  {
   "cell_type": "code",
   "execution_count": null,
   "metadata": {},
   "outputs": [],
   "source": []
  },
  {
   "cell_type": "code",
   "execution_count": null,
   "id": "8b94dbbd",
   "metadata": {},
   "outputs": [],
   "source": []
  },
  {
   "cell_type": "code",
   "execution_count": null,
   "metadata": {},
   "outputs": [],
   "source": []
  },
  {
   "cell_type": "code",
   "execution_count": null,
   "metadata": {},
   "outputs": [],
   "source": []
  },
  {
   "cell_type": "code",
   "execution_count": null,
   "metadata": {},
   "outputs": [],
   "source": []
  },
  {
   "cell_type": "code",
   "execution_count": null,
   "metadata": {},
   "outputs": [],
   "source": []
  },
  {
   "cell_type": "code",
   "execution_count": null,
   "id": "f7f3611a",
   "metadata": {},
   "outputs": [],
   "source": []
  },
  {
   "cell_type": "code",
   "execution_count": null,
   "metadata": {},
   "outputs": [],
   "source": []
  },
  {
   "cell_type": "code",
   "execution_count": null,
   "id": "7597c24a",
   "metadata": {},
   "outputs": [],
   "source": []
  },
  {
   "cell_type": "code",
   "execution_count": null,
   "id": "b7549376",
   "metadata": {},
   "outputs": [],
   "source": []
  },
  {
   "cell_type": "code",
   "execution_count": null,
   "metadata": {},
   "outputs": [],
   "source": []
  },
  {
   "cell_type": "code",
   "execution_count": null,
   "id": "2ba69ea1",
   "metadata": {},
   "outputs": [],
   "source": []
  },
  {
   "cell_type": "code",
   "execution_count": null,
   "metadata": {},
   "outputs": [],
   "source": []
  },
  {
   "cell_type": "code",
   "execution_count": null,
   "metadata": {},
   "outputs": [],
   "source": []
  },
  {
   "cell_type": "code",
   "execution_count": null,
   "metadata": {},
   "outputs": [],
   "source": []
  },
  {
   "cell_type": "code",
   "execution_count": null,
   "metadata": {},
   "outputs": [],
   "source": []
  },
  {
   "cell_type": "code",
   "execution_count": null,
   "metadata": {},
   "outputs": [],
   "source": []
  },
  {
   "cell_type": "code",
   "execution_count": null,
   "id": "6e35494a",
   "metadata": {},
   "outputs": [],
   "source": []
  },
  {
   "cell_type": "code",
   "execution_count": null,
   "metadata": {},
   "outputs": [],
   "source": []
  },
  {
   "cell_type": "code",
   "execution_count": null,
   "metadata": {},
   "outputs": [],
   "source": []
  },
  {
   "cell_type": "code",
   "execution_count": null,
   "metadata": {},
   "outputs": [],
   "source": []
  },
  {
   "cell_type": "code",
   "execution_count": null,
   "metadata": {},
   "outputs": [],
   "source": []
  },
  {
   "cell_type": "code",
   "execution_count": null,
   "id": "2838de86",
   "metadata": {},
   "outputs": [],
   "source": []
  }
 ],
 "metadata": {
  "kernelspec": {
   "display_name": "base",
   "language": "python",
   "name": "python3"
  },
  "language_info": {
   "codemirror_mode": {
    "name": "ipython",
    "version": 3
   },
   "file_extension": ".py",
   "mimetype": "text/x-python",
   "name": "python",
   "nbconvert_exporter": "python",
   "pygments_lexer": "ipython3",
   "version": "3.12.7"
  }
 },
 "nbformat": 4,
 "nbformat_minor": 5
}
